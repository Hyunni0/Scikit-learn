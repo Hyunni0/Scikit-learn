{
  "nbformat": 4,
  "nbformat_minor": 0,
  "metadata": {
    "colab": {
      "provenance": [],
      "authorship_tag": "ABX9TyPmrv7Ch9m9ZE5CACBJNRKd",
      "include_colab_link": true
    },
    "kernelspec": {
      "name": "python3",
      "display_name": "Python 3"
    },
    "language_info": {
      "name": "python"
    }
  },
  "cells": [
    {
      "cell_type": "markdown",
      "metadata": {
        "id": "view-in-github",
        "colab_type": "text"
      },
      "source": [
        "<a href=\"https://colab.research.google.com/github/Hyunni0/Scikit-learn/blob/main/Analysis_of_Multiple_Classification_Models_on_Dataset.ipynb\" target=\"_parent\"><img src=\"https://colab.research.google.com/assets/colab-badge.svg\" alt=\"Open In Colab\"/></a>"
      ]
    },
    {
      "cell_type": "code",
      "execution_count": null,
      "metadata": {
        "id": "UFxf1LAobfcS"
      },
      "outputs": [],
      "source": [
        "#csv 파일 읽어오기\n",
        "\n",
        "import pandas as pd\n",
        "\n",
        "X_test = pd.read_csv(\"/content/sample_data/X_test.csv\")\n",
        "X_train = pd.read_csv(\"/content/sample_data/X_train.csv\")\n",
        "y_train = pd.read_csv(\"/content/sample_data/y_train.csv\")\n",
        "y_test = pd.read_csv(\"/content/sample_data/y_test.csv\")"
      ]
    },
    {
      "cell_type": "code",
      "source": [
        "#Logistic\n",
        "\n",
        "from sklearn.linear_model import LogisticRegression\n",
        "from sklearn.metrics import roc_auc_score\n",
        "\n",
        "logist = LogisticRegression()\n",
        "logist.fit(X_train, y_train)\n",
        "y_pred1 = logist.predict_proba(X_test)\n",
        "\n",
        "score1 = roc_auc_score(y_test, y_pred1[:,1])\n",
        "\n",
        "print(\"정확도 : \", score1)"
      ],
      "metadata": {
        "colab": {
          "base_uri": "https://localhost:8080/"
        },
        "id": "e-haNxGRcXxi",
        "outputId": "26fb466e-4314-48eb-85e3-d5eb4babcd8b"
      },
      "execution_count": null,
      "outputs": [
        {
          "output_type": "stream",
          "name": "stdout",
          "text": [
            "정확도 :  0.8979179365435822\n"
          ]
        },
        {
          "output_type": "stream",
          "name": "stderr",
          "text": [
            "/usr/local/lib/python3.9/dist-packages/sklearn/utils/validation.py:1143: DataConversionWarning: A column-vector y was passed when a 1d array was expected. Please change the shape of y to (n_samples, ), for example using ravel().\n",
            "  y = column_or_1d(y, warn=True)\n"
          ]
        }
      ]
    },
    {
      "cell_type": "code",
      "source": [
        "#SVM\n",
        "\n",
        "from sklearn.svm import SVR\n",
        "from sklearn.metrics import roc_auc_score\n",
        "\n",
        "svc = SVR(kernel = 'linear')\n",
        "svc.fit(X_train, y_train)\n",
        "y_pred2 = svc.predict(X_test)\n",
        "\n",
        "score2 = roc_auc_score(y_test,y_pred2)\n",
        "\n",
        "print(\"정확도 : \", score2)"
      ],
      "metadata": {
        "colab": {
          "base_uri": "https://localhost:8080/"
        },
        "id": "aXlp6FIPcXwq",
        "outputId": "9ebd05b0-d80c-45ae-fd93-314d176edef8"
      },
      "execution_count": null,
      "outputs": [
        {
          "output_type": "stream",
          "name": "stderr",
          "text": [
            "/usr/local/lib/python3.9/dist-packages/sklearn/utils/validation.py:1143: DataConversionWarning: A column-vector y was passed when a 1d array was expected. Please change the shape of y to (n_samples, ), for example using ravel().\n",
            "  y = column_or_1d(y, warn=True)\n"
          ]
        },
        {
          "output_type": "stream",
          "name": "stdout",
          "text": [
            "정확도 :  0.8848128067755286\n"
          ]
        }
      ]
    },
    {
      "cell_type": "code",
      "source": [
        "#Random Forest\n",
        "\n",
        "from sklearn.ensemble import RandomForestClassifier\n",
        "from sklearn.metrics import roc_auc_score\n",
        "\n",
        "ran_for = RandomForestClassifier(criterion='entropy', bootstrap=True, random_state=42, max_depth=3)\n",
        "\n",
        "ran_for.fit(X_train, y_train)\n",
        "y_pred3 = ran_for.predict(X_test)\n",
        "\n",
        "score3 = roc_auc_score(y_test, y_pred3)\n",
        "\n",
        "print(\"정확도 : \", score3)"
      ],
      "metadata": {
        "colab": {
          "base_uri": "https://localhost:8080/"
        },
        "id": "YCxxwdKNmxf7",
        "outputId": "4bb4e224-cdcc-498a-8626-48ec99f7642e"
      },
      "execution_count": null,
      "outputs": [
        {
          "output_type": "stream",
          "name": "stderr",
          "text": [
            "<ipython-input-23-a3106c9a7ea0>:8: DataConversionWarning: A column-vector y was passed when a 1d array was expected. Please change the shape of y to (n_samples,), for example using ravel().\n",
            "  ran_for.fit(X_train, y_train)\n"
          ]
        },
        {
          "output_type": "stream",
          "name": "stdout",
          "text": [
            "정확도 :  0.9054810561098457\n"
          ]
        }
      ]
    },
    {
      "cell_type": "markdown",
      "source": [
        "Logistic, SVM, Random Forest 3가지 모델을 사용해보았을 때, 정확도가 제일 높은 Random Forest로 코드 작성 진행"
      ],
      "metadata": {
        "id": "DGksO_yMoJWy"
      }
    },
    {
      "cell_type": "code",
      "source": [
        "#Random Forest\n",
        "\n",
        "# RandomForestClassifier 을 사용하여 랜덤 포레스트 모델 생성\n",
        "from sklearn.ensemble import RandomForestClassifier\n",
        "\n",
        "ran_for = RandomForestClassifier(criterion='entropy', bootstrap=True, random_state=42, max_depth=3)\n",
        "\n",
        "ran_for.fit(X_train, y_train) # 훈련데이터 X_train, y_train 학습\n",
        "y_pred4 = ran_for.predict(X_test) # 학습된 모델을 사용하여 테스트 데이터 'X_test'에 대한 예측 수행, y_pred4 에 저장"
      ],
      "metadata": {
        "id": "lF0SwJpa__5i"
      },
      "execution_count": null,
      "outputs": []
    }
  ]
}